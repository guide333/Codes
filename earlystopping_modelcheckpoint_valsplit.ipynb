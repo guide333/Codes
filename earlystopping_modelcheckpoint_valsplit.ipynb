{
 "cells": [
  {
   "cell_type": "markdown",
   "id": "forced-fever",
   "metadata": {},
   "source": [
    "## Tensorflow callbacks 함수\n",
    "\n",
    "### Earlystopping\n",
    "\n",
    "```python\n",
    "tf.keras.callbacks.EarlyStopping(\n",
    "    monitor='val_loss', min_delta=0, patience=0, verbose=0,\n",
    "    mode='auto', baseline=None, restore_best_weights=False\n",
    ")\n",
    "```\n",
    "\n",
    "https://www.tensorflow.org/api_docs/python/tf/keras/callbacks/EarlyStopping\n",
    "\n",
    "- min_delta: \tMinimum change in the monitored quantity to qualify as an improvement, i.e. an absolute change of less than min_delta, will count as no improvement.\n",
    "\n",
    "- mode: One of {\"auto\", \"min\", \"max\"}. In min mode, training will stop when the quantity monitored has stopped decreasing; in \"max\" mode it will stop when the quantity monitored has stopped increasing; in \"auto\" mode, the direction is automatically inferred from the name of the monitored quantity.\n",
    "\n",
    "- baseline: Baseline value for the monitored quantity. Training will stop if the model doesn't show improvement over the baseline.\n",
    "\n",
    "- restore_best_weights: Whether to restore model weights from the epoch with the best value of the monitored quantity. If False, the model weights obtained at the last step of training are used.\n",
    "\n",
    "신경쓸 것은 monitor와 patience. 두 개만 써도 된다. \n",
    "\n"
   ]
  },
  {
   "cell_type": "markdown",
   "id": "blank-publisher",
   "metadata": {},
   "source": [
    "### ModelCheckpoint\n",
    "\n",
    "```python\n",
    "tf.keras.callbacks.ModelCheckpoint(\n",
    "    filepath, monitor='val_loss', verbose=0, save_best_only=False,\n",
    "    save_weights_only=False, mode='auto', save_freq='epoch',\n",
    "    options=None, **kwargs\n",
    ")\n",
    "```\n",
    "\n",
    "https://www.tensorflow.org/api_docs/python/tf/keras/callbacks/ModelCheckpoint\n",
    "\n",
    "- filepath: string or PathLike, path to save the model file. filepath can contain named formatting options, which will be filled the value of epoch and keys in logs (passed in on_epoch_end). For example: if filepath is weights.{epoch:02d}-{val_loss:.2f}.hdf5, then the model checkpoints will be saved with the epoch number and the validation loss in the filename.\n",
    "\n",
    "굳이 파일로 저장하고 싶지 않으면 string으로 한다. \n",
    "\n",
    "- save_best_only: if save_best_only=True, it only saves when the model is considered the \"best\" and the latest best model according to the quantity monitored will not be overwritten. If filepath doesn't contain formatting options like {epoch} then filepath will be overwritten by each new better model.\n",
    "\n",
    "- mode: one of {'auto', 'min', 'max'}. If save_best_only=True, the decision to overwrite the current save file is made based on either the maximization or the minimization of the monitored quantity. In auto mode, the direction is automatically inferred from the name of the monitored quantity. __val_acc: max, val_loss: min__ \n",
    "\n",
    "monitor 이름을 잘 확인할 것!\n",
    "\n",
    "꼭 써야하는 것은 filepath, monitor, save_best_only=True, mode는 안 써도 자동으로 되지만 쓸 때는 max, min 중 어떤 것을 쓸지 확인하기! \n",
    "\n",
    "- 아래는 사용예"
   ]
  },
  {
   "cell_type": "code",
   "execution_count": null,
   "id": "union-breed",
   "metadata": {
    "ExecuteTime": {
     "end_time": "2021-04-11T05:25:15.998283Z",
     "start_time": "2021-04-11T05:25:15.946183Z"
    }
   },
   "outputs": [],
   "source": [
    "from tensorflow as tf\n",
    "\n",
    "es = tf.keras.callbacks.EarlyStopping(monitor='val_loss', mode='min', verbose=1, patience=4)\n",
    "mc = tf.keras.callbacks.ModelCheckpoint('best_model.h5', monitor='val_acc', mode='max', verbose=1, save_best_only=True)\n",
    "\n",
    "model.compile(optimizer='rmsprop', loss='binary_crossentropy', metrics=['acc'])\n",
    "history = model.fit(X_train, y_train, epochs=15, callbacks=[es, mc], batch_size=60, validation_split=0.2)\n",
    "\n",
    "\n",
    "loaded_model = load_model('best_model.h5')\n",
    "print(\"\\n 테스트 정확도: %.4f\" % (loaded_model.evaluate(X_test, y_test)[1]))"
   ]
  }
 ],
 "metadata": {
  "kernelspec": {
   "display_name": "aiffel",
   "language": "python",
   "name": "aiffel"
  },
  "language_info": {
   "codemirror_mode": {
    "name": "ipython",
    "version": 3
   },
   "file_extension": ".py",
   "mimetype": "text/x-python",
   "name": "python",
   "nbconvert_exporter": "python",
   "pygments_lexer": "ipython3",
   "version": "3.7.10"
  }
 },
 "nbformat": 4,
 "nbformat_minor": 5
}
